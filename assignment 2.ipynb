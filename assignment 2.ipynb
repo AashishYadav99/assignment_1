{
 "cells": [
  {
   "cell_type": "markdown",
   "id": "e2a1dd0c",
   "metadata": {},
   "source": [
    "# Q1. How do you comment code in Python? What are the different types of comments?"
   ]
  },
  {
   "cell_type": "code",
   "execution_count": null,
   "id": "81ce005e",
   "metadata": {},
   "outputs": [],
   "source": [
    "Comments in Python are the lines in the code that are ignored by the interpreter during the execution of the program. \n",
    "There are three types of comments in Python:\n",
    "\n",
    "Single line Comments-\n",
    "\n",
    "# sample comment\n",
    "name = \"pwskillls\"\n",
    "print(name)\n",
    "\n",
    "Multiline Comments-\n",
    "\n",
    "\"\"\" Python program to demonstrate\n",
    " multiline comments\"\"\"\n",
    "print(\"Multiline comments\")\n",
    "\n",
    "Docstring Comments-\n",
    "def multiply(a, b):\n",
    "\"\"\"Multiplies the value of a and b\"\"\"\n",
    "    return a*b\n",
    "# Print the docstring of multiply function\n",
    "print(multiply.__doc__)\n",
    "\n"
   ]
  },
  {
   "cell_type": "markdown",
   "id": "71f364f2",
   "metadata": {},
   "source": [
    "# Q2. What are variables in Python? How do you declare and assign values to variables?"
   ]
  },
  {
   "cell_type": "code",
   "execution_count": null,
   "id": "d79d8b34",
   "metadata": {},
   "outputs": [],
   "source": [
    "variable-variables are used to store data values.\n",
    "They act as placeholders for different types of data, such as numbers, strings, lists, or objects.\n",
    "Variables allow you to assign names to values, making it easier to refer to and manipulate data in your program.\n",
    "\n",
    "To declare a variable in Python, you simply choose a name for the variable and use the equals sign (=) to assign a value to it.\n",
    "Here's the general syntax:\n",
    "variable_name = value\n",
    "\n",
    "x = 5  # x is an integer\n",
    "x = \"hello\"  # x is now a string\n",
    "x = [1, 2, 3]  # x is now a list\n",
    "\n"
   ]
  },
  {
   "cell_type": "markdown",
   "id": "a46aa59e",
   "metadata": {},
   "source": [
    "# Q3. How do you convert one data type to another in Python?"
   ]
  },
  {
   "cell_type": "code",
   "execution_count": 14,
   "id": "64bc47f6",
   "metadata": {},
   "outputs": [
    {
     "name": "stdout",
     "output_type": "stream",
     "text": [
      "5\n",
      "10.0\n",
      "10\n"
     ]
    }
   ],
   "source": [
    "#Python can convert one data type to another using type conversion functions.\n",
    "x=5.6             #x is float \n",
    "x= int(5.6)       # x is now 5 (converted from float to int)\n",
    "print(x)\n",
    "y=5               # y is int\n",
    "y = float(10)     # y is now 10.0 (converted from int to float)\n",
    "\n",
    "print(y)\n",
    "z=10              # z is int\n",
    "z= str(10)       # z is now \"10\" (converted from int to string)\n",
    "print(z)\n",
    "#etc......\n",
    "   "
   ]
  },
  {
   "cell_type": "markdown",
   "id": "2ae11c21",
   "metadata": {},
   "source": [
    "# Q4. How do you write and execute a Python script from the command line?"
   ]
  },
  {
   "cell_type": "code",
   "execution_count": null,
   "id": "279144ff",
   "metadata": {},
   "outputs": [],
   "source": [
    "Open a text editor or an integrated development environment (IDE) to write your Python script.\n",
    "Write your Python code in the text editor and save the file with a .py extension. \n",
    "For example, you could save the file as script.py.\n",
    "# script.py\n",
    "print(\"Hello, World!\")\n"
   ]
  },
  {
   "cell_type": "markdown",
   "id": "0e503d94",
   "metadata": {},
   "source": [
    "# Q5. Given a list my_list = [1, 2, 3, 4, 5], write the code to slice the list and obtain the sub-list [2, 3]."
   ]
  },
  {
   "cell_type": "code",
   "execution_count": 20,
   "id": "3645f970",
   "metadata": {},
   "outputs": [
    {
     "name": "stdout",
     "output_type": "stream",
     "text": [
      "[2, 3]\n"
     ]
    }
   ],
   "source": [
    "my_list = [1, 2, 3, 4, 5]\n",
    "sub_list=my_list[1:3]\n",
    "print(sub_list)"
   ]
  },
  {
   "cell_type": "markdown",
   "id": "bd51f391",
   "metadata": {},
   "source": [
    "# Q6. What is a complex number in mathematics, and how is it represented in Python?"
   ]
  },
  {
   "cell_type": "code",
   "execution_count": null,
   "id": "cffdb3ba",
   "metadata": {},
   "outputs": [],
   "source": [
    "The complex number is in the form of a+bj, where a = real number and bj = imaginary number."
   ]
  },
  {
   "cell_type": "code",
   "execution_count": 24,
   "id": "5f729233",
   "metadata": {},
   "outputs": [
    {
     "name": "stdout",
     "output_type": "stream",
     "text": [
      "3.0\n",
      "4.0\n"
     ]
    }
   ],
   "source": [
    "z1=3+4j\n",
    "print(z1.real) \n",
    "print(z1.imag)  \n"
   ]
  },
  {
   "cell_type": "markdown",
   "id": "987513f1",
   "metadata": {},
   "source": [
    "# Q7. What is the correct way to declare a variable named age and assign the value 25 to it?"
   ]
  },
  {
   "cell_type": "code",
   "execution_count": null,
   "id": "96da1d8c",
   "metadata": {},
   "outputs": [],
   "source": [
    "\"\"\"This line of code declares the variable age and assigns the value 25 to it. \n",
    "You can then use the variable age throughout your program to refer to the assigned value.\"\"\"\n",
    "age=25"
   ]
  },
  {
   "cell_type": "markdown",
   "id": "1a4303f1",
   "metadata": {},
   "source": [
    "# Q8. Declare a variable named price and assign the value 9.99 to it. What data type does this variable belong to?"
   ]
  },
  {
   "cell_type": "code",
   "execution_count": 25,
   "id": "4399c472",
   "metadata": {},
   "outputs": [
    {
     "data": {
      "text/plain": [
       "float"
      ]
     },
     "execution_count": 25,
     "metadata": {},
     "output_type": "execute_result"
    }
   ],
   "source": [
    "price=9.99\n",
    "type(price)"
   ]
  },
  {
   "cell_type": "markdown",
   "id": "1f33d90a",
   "metadata": {},
   "source": [
    "# Q9. Create a variable named name and assign your full name to it as a string. How would you print the value of this variable?"
   ]
  },
  {
   "cell_type": "code",
   "execution_count": 26,
   "id": "8d26f210",
   "metadata": {},
   "outputs": [
    {
     "name": "stdout",
     "output_type": "stream",
     "text": [
      "Ashish Kumar Yadav\n"
     ]
    }
   ],
   "source": [
    "name=\"Ashish Kumar Yadav\"\n",
    "print(name)"
   ]
  },
  {
   "cell_type": "markdown",
   "id": "80d25dd0",
   "metadata": {},
   "source": [
    "# Q10. Given the string \"Hello, World!\", extract the substring \"World\"."
   ]
  },
  {
   "cell_type": "code",
   "execution_count": 28,
   "id": "217fd6b4",
   "metadata": {},
   "outputs": [
    {
     "name": "stdout",
     "output_type": "stream",
     "text": [
      "World\n"
     ]
    }
   ],
   "source": [
    "string=\"Hello, World!\"\n",
    "substring=string[7:12]\n",
    "print(substring)"
   ]
  },
  {
   "cell_type": "markdown",
   "id": "118afc84",
   "metadata": {},
   "source": [
    "# Q11. Create a variable named \"is_student\" and assign it a boolean value indicating whether you are currently a student or not."
   ]
  },
  {
   "cell_type": "code",
   "execution_count": 29,
   "id": "efacd319",
   "metadata": {},
   "outputs": [
    {
     "name": "stdout",
     "output_type": "stream",
     "text": [
      " you are currently a student  True\n"
     ]
    }
   ],
   "source": [
    "is_student=True\n",
    "print(\" you are currently a student \",is_student)"
   ]
  },
  {
   "cell_type": "code",
   "execution_count": null,
   "id": "26bc6a1d",
   "metadata": {},
   "outputs": [],
   "source": []
  }
 ],
 "metadata": {
  "kernelspec": {
   "display_name": "Python 3 (ipykernel)",
   "language": "python",
   "name": "python3"
  },
  "language_info": {
   "codemirror_mode": {
    "name": "ipython",
    "version": 3
   },
   "file_extension": ".py",
   "mimetype": "text/x-python",
   "name": "python",
   "nbconvert_exporter": "python",
   "pygments_lexer": "ipython3",
   "version": "3.10.9"
  }
 },
 "nbformat": 4,
 "nbformat_minor": 5
}
