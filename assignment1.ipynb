{
 "cells": [
  {
   "cell_type": "code",
   "execution_count": null,
   "id": "194a014b",
   "metadata": {},
   "outputs": [],
   "source": [
    "'''Q1. Create one variable containing following type of data:\n",
    "\n",
    "(i) string\n",
    "(ii) list\n",
    "(iii) float\n",
    "(iv) tuple'''"
   ]
  },
  {
   "cell_type": "code",
   "execution_count": 2,
   "id": "b63295da",
   "metadata": {},
   "outputs": [
    {
     "name": "stdout",
     "output_type": "stream",
     "text": [
      "<class 'str'>\n"
     ]
    }
   ],
   "source": [
    "a=\"Ashish\"\n",
    "print(type(a))"
   ]
  },
  {
   "cell_type": "code",
   "execution_count": 7,
   "id": "561f1b8c",
   "metadata": {},
   "outputs": [
    {
     "name": "stdout",
     "output_type": "stream",
     "text": [
      "<class 'list'>\n"
     ]
    }
   ],
   "source": [
    "a=[12,14,\"Ashish\",10.5]\n",
    "print(type(a))"
   ]
  },
  {
   "cell_type": "code",
   "execution_count": 4,
   "id": "15138b5f",
   "metadata": {},
   "outputs": [
    {
     "name": "stdout",
     "output_type": "stream",
     "text": [
      "<class 'float'>\n"
     ]
    }
   ],
   "source": [
    "a=10.5\n",
    "print(type(a))"
   ]
  },
  {
   "cell_type": "code",
   "execution_count": 6,
   "id": "b1575b1b",
   "metadata": {},
   "outputs": [
    {
     "name": "stdout",
     "output_type": "stream",
     "text": [
      "<class 'tuple'>\n"
     ]
    }
   ],
   "source": [
    "a=(12,14,\"Ashish\",10.5)\n",
    "print(type(a))"
   ]
  },
  {
   "cell_type": "code",
   "execution_count": null,
   "id": "5f5f1672",
   "metadata": {},
   "outputs": [],
   "source": [
    "'''Q2. Given are some following variables containing data:\n",
    "\n",
    "(i) var1 = ‘ ‘\n",
    "(ii) var2 = ‘[ DS , ML , Python]’\n",
    "(iii) var3 = [ ‘DS’ , ’ML’ , ‘Python’ ]\n",
    "(iv) var4 = 1.'''"
   ]
  },
  {
   "cell_type": "code",
   "execution_count": 14,
   "id": "f16bdd54",
   "metadata": {},
   "outputs": [
    {
     "name": "stdout",
     "output_type": "stream",
     "text": [
      "<class 'str'>\n",
      "<class 'str'>\n",
      "<class 'list'>\n",
      "<class 'float'>\n"
     ]
    }
   ],
   "source": [
    "var1 = ' '\n",
    "var2='[ DS , ML , Python]'\n",
    "var3=[ 'DS' , 'ML' , 'Python' ]\n",
    "var4 = 1.\n",
    "\n",
    "print(type(var1))\n",
    "print(type(var2))\n",
    "print(type(var3))\n",
    "print(type(var4))\n"
   ]
  },
  {
   "cell_type": "code",
   "execution_count": null,
   "id": "47148310",
   "metadata": {},
   "outputs": [],
   "source": [
    "'''Q3. Explain the use of the following operators using an example:\n",
    "\n",
    "(i) /\n",
    "(ii) %\n",
    "(iii) //\n",
    "(iv) **'''"
   ]
  },
  {
   "cell_type": "code",
   "execution_count": 21,
   "id": "fdd8cd35",
   "metadata": {},
   "outputs": [
    {
     "name": "stdout",
     "output_type": "stream",
     "text": [
      "2.2\n",
      "1\n",
      "2\n",
      "8\n"
     ]
    }
   ],
   "source": [
    " '/' (division operator) always performs floating point arithmatic .It always returns float value\n",
    "\n",
    "'%' is used for find the reminder of any 2 number\n",
    "\n",
    "\"//\" floar division opertor can perform both floating point and integral arithmatic.\n",
    "\n",
    " \"**\" exponent operator is used to find the power value of any number\n",
    "\n",
    "print(11/5)\n",
    "print(11%5)\n",
    "print(11//5)\n",
    "print(2**3)"
   ]
  },
  {
   "cell_type": "code",
   "execution_count": 15,
   "id": "1bdaf990",
   "metadata": {},
   "outputs": [
    {
     "name": "stdout",
     "output_type": "stream",
     "text": [
      "element is 10 and its data type is :<class 'int'>\n",
      "element is 22.5 and its data type is :<class 'float'>\n",
      "element is Ashish and its data type is :<class 'str'>\n",
      "element is 18 and its data type is :<class 'int'>\n",
      "element is 90 and its data type is :<class 'int'>\n",
      "element is 8.8 and its data type is :<class 'float'>\n",
      "element is 14.9 and its data type is :<class 'float'>\n",
      "element is pwskills and its data type is :<class 'str'>\n",
      "element is MCA and its data type is :<class 'str'>\n",
      "element is 44 and its data type is :<class 'int'>\n"
     ]
    }
   ],
   "source": [
    "'''Q4. Create a list of length 10 of your choice containing multiple types of data. Using for loop print the \n",
    "element and its data type.'''\n",
    "\n",
    "list=[10,22.5,\"Ashish\",18,90,8.8,14.9,\"pwskills\",\"MCA\",44]\n",
    "for i in list:\n",
    "    print(\"element is {} and its data type is :{}\".format(i,type(i)))"
   ]
  },
  {
   "cell_type": "code",
   "execution_count": 16,
   "id": "fce3ce93",
   "metadata": {},
   "outputs": [
    {
     "name": "stdout",
     "output_type": "stream",
     "text": [
      "Enter the value of A: 50\n",
      "Enter the value of B: 5\n",
      "total number of times A is divisible by B is: 2\n"
     ]
    }
   ],
   "source": [
    " \"\"\"Q5. Using a while loop, verify if the number A is purely divisible by number B and if so then how many \n",
    "times it can be divisible.\"\"\"\n",
    "\n",
    "A = int(input(\"Enter the value of A: \"))\n",
    "B = int(input(\"Enter the value of B: \"))\n",
    "count = 0\n",
    "while A % B == 0:\n",
    "    A = A / B\n",
    "    count += 1\n",
    "if count > 0:\n",
    "    print(\"total number of times A is divisible by B is:\",count)\n",
    "else:\n",
    "    print(\"A is not divisible by B.\")\n"
   ]
  },
  {
   "cell_type": "code",
   "execution_count": 11,
   "id": "f10378ed",
   "metadata": {},
   "outputs": [
    {
     "name": "stdout",
     "output_type": "stream",
     "text": [
      "55 is not divisible by 3\n",
      "33 is divisible by 3 \n",
      "56 is not divisible by 3\n",
      "78 is divisible by 3 \n",
      "95 is not divisible by 3\n",
      "93 is divisible by 3 \n",
      "76 is not divisible by 3\n",
      "7 is not divisible by 3\n",
      "26 is not divisible by 3\n",
      "23 is not divisible by 3\n",
      "66 is divisible by 3 \n",
      "34 is not divisible by 3\n",
      "62 is not divisible by 3\n",
      "44 is not divisible by 3\n",
      "56 is not divisible by 3\n",
      "78 is divisible by 3 \n",
      "88 is not divisible by 3\n",
      "45 is divisible by 3 \n",
      "67 is not divisible by 3\n",
      "78 is divisible by 3 \n",
      "99 is divisible by 3 \n",
      "66 is divisible by 3 \n",
      "78 is divisible by 3 \n",
      "90 is divisible by 3 \n",
      "33 is divisible by 3 \n"
     ]
    }
   ],
   "source": [
    "\"\"\"Q6. Create a list containing 25 int type data. Using for loop and if-else condition print if the element is \n",
    "divisible by 3 or not.\"\"\"\n",
    "\n",
    "list=[55,33,56,78,95,93,76,7,26,23,66,34,62,44,56,78,88,45,67,78,99,66,78,90,33]\n",
    "for i in list:\n",
    "    if i%3==0:\n",
    "        print(i,\"is divisible by 3 \")\n",
    "    else:\n",
    "        print(i,\"is not divisible by 3\")"
   ]
  },
  {
   "cell_type": "code",
   "execution_count": null,
   "id": "5f97e82b",
   "metadata": {},
   "outputs": [],
   "source": [
    "'''Q7. What do you understand about mutable and immutable data types? Give examples for both showing \n",
    "this property.'''\n",
    "\n",
    "mutable :\n",
    "    Mutable objects are those that allow you to change \n",
    "their value or data in place without affecting the object's identity.\n",
    "\n",
    "immutable:\n",
    "immutable objects don't allow you to change \n",
    "their value or data in place without affecting the object's identity.\n",
    "    "
   ]
  },
  {
   "cell_type": "code",
   "execution_count": 12,
   "id": "2c21e33a",
   "metadata": {},
   "outputs": [
    {
     "name": "stdout",
     "output_type": "stream",
     "text": [
      "['mumbai', 'hyderabad', 'chandigarh']\n",
      "['thiruvananthapuram', 'hyderabad', 'gandhinagar']\n"
     ]
    }
   ],
   "source": [
    "#mutable\n",
    "cities = [\"mumbai\", \"hyderabad\", \"chandigarh\"]\n",
    "print(cities)\n",
    "# updating list elements\n",
    "cities[0] = \"thiruvananthapuram\"\n",
    "cities[-1] = \"gandhinagar\"\n",
    "print(cities)"
   ]
  },
  {
   "cell_type": "code",
   "execution_count": 13,
   "id": "21827298",
   "metadata": {},
   "outputs": [
    {
     "ename": "TypeError",
     "evalue": "'tuple' object does not support item assignment",
     "output_type": "error",
     "traceback": [
      "\u001b[1;31m---------------------------------------------------------------------------\u001b[0m",
      "\u001b[1;31mTypeError\u001b[0m                                 Traceback (most recent call last)",
      "Cell \u001b[1;32mIn[13], line 4\u001b[0m\n\u001b[0;32m      1\u001b[0m \u001b[38;5;66;03m# Python code to test that\u001b[39;00m\n\u001b[0;32m      2\u001b[0m \u001b[38;5;66;03m# tuples are immutable\u001b[39;00m\n\u001b[0;32m      3\u001b[0m tuple1 \u001b[38;5;241m=\u001b[39m (\u001b[38;5;241m0\u001b[39m, \u001b[38;5;241m1\u001b[39m, \u001b[38;5;241m2\u001b[39m, \u001b[38;5;241m3\u001b[39m)\n\u001b[1;32m----> 4\u001b[0m tuple1[\u001b[38;5;241m0\u001b[39m] \u001b[38;5;241m=\u001b[39m \u001b[38;5;241m4\u001b[39m\n\u001b[0;32m      5\u001b[0m \u001b[38;5;28mprint\u001b[39m(tuple1)\n",
      "\u001b[1;31mTypeError\u001b[0m: 'tuple' object does not support item assignment"
     ]
    }
   ],
   "source": [
    "# Python code to test that\n",
    "# tuples are immutable\n",
    "tuple1 = (0, 1, 2, 3)\n",
    "tuple1[0] = 4\n",
    "print(tuple1)\n"
   ]
  },
  {
   "cell_type": "code",
   "execution_count": null,
   "id": "14ab1187",
   "metadata": {},
   "outputs": [],
   "source": []
  }
 ],
 "metadata": {
  "kernelspec": {
   "display_name": "Python 3 (ipykernel)",
   "language": "python",
   "name": "python3"
  },
  "language_info": {
   "codemirror_mode": {
    "name": "ipython",
    "version": 3
   },
   "file_extension": ".py",
   "mimetype": "text/x-python",
   "name": "python",
   "nbconvert_exporter": "python",
   "pygments_lexer": "ipython3",
   "version": "3.10.9"
  }
 },
 "nbformat": 4,
 "nbformat_minor": 5
}
